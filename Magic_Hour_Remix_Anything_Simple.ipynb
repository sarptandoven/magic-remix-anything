{
  "cells": [
    {
      "cell_type": "raw",
      "metadata": {
        "vscode": {
          "languageId": "raw"
        }
      },
      "source": [
        "# 🎬 Magic Hour Remix Anything\n",
        "\n",
        "**AI-powered video object segmentation and tracking**\n",
        "\n",
        "This notebook provides a simple interface to run Magic Hour Remix Anything in Google Colab.\n",
        "All the heavy lifting is done by scripts in the repository.\n",
        "\n",
        "---\n",
        "\n",
        "## 📋 Quick Start:\n",
        "1. **Run Cell 1**: Clone repository and check environment\n",
        "2. **Run Cell 2**: Complete setup (takes 5-10 minutes)\n",
        "3. **Run Cell 3**: Launch the application\n",
        "4. **Click the Gradio link** when it appears\n",
        "\n",
        "---\n",
        "\n",
        "## 🔧 Features:\n",
        "- ✅ Automated setup and installation\n",
        "- ✅ Memory optimization for Colab\n",
        "- ✅ Multiple launch methods with fallbacks\n",
        "- ✅ Comprehensive error handling\n",
        "- ✅ Progress monitoring\n",
        "\n",
        "---\n"
      ]
    },
    {
      "cell_type": "code",
      "execution_count": null,
      "metadata": {},
      "outputs": [],
      "source": [
        "# 🚀 Step 1: Clone Repository and Check Environment\n",
        "\n",
        "import os\n",
        "import sys\n",
        "\n",
        "# Clone the repository (use the correct repo URL)\n",
        "if os.path.exists('magic-hour-virtual-mask-tracker'):\n",
        "    !rm -rf magic-hour-virtual-mask-tracker\n",
        "\n",
        "print(\"📥 Cloning Magic Hour Remix Anything repository...\")\n",
        "!git clone https://github.com/antoinebou12/magic-hour-virtual-mask-tracker.git\n",
        "%cd magic-hour-virtual-mask-tracker\n",
        "\n",
        "# Quick environment check\n",
        "print(\"\\n🔍 Environment Check:\")\n",
        "!nvidia-smi --query-gpu=name,memory.total --format=csv,noheader,nounits 2>/dev/null || echo \"No GPU detected\"\n",
        "\n",
        "# Check if we're in Google Colab\n",
        "try:\n",
        "    import google.colab\n",
        "    print(\"✅ Running in Google Colab\")\n",
        "except ImportError:\n",
        "    print(\"ℹ️ Not running in Google Colab\")\n",
        "\n",
        "# Check GPU availability  \n",
        "try:\n",
        "    import torch\n",
        "    if torch.cuda.is_available():\n",
        "        gpu_name = torch.cuda.get_device_name(0)\n",
        "        gpu_memory = torch.cuda.get_device_properties(0).total_memory / 1024**3\n",
        "        print(f\"🚀 GPU available: {gpu_name} ({gpu_memory:.1f}GB)\")\n",
        "    else:\n",
        "        print(\"⚠️ No GPU available - will use CPU (slower)\")\n",
        "except ImportError:\n",
        "    print(\"📦 PyTorch not yet installed\")\n",
        "\n",
        "print(\"\\n✅ Repository cloned and environment checked!\")\n",
        "print(\"👉 Next: Run Cell 2 to complete setup\")\n"
      ]
    },
    {
      "cell_type": "code",
      "execution_count": null,
      "metadata": {},
      "outputs": [],
      "source": [
        "# 🔧 Step 2: Complete Setup\n",
        "\n",
        "print(\"🎬 Magic Hour Remix Anything - Setup\")\n",
        "print(\"This will take 5-10 minutes...\")\n",
        "print(\"=\"*50)\n",
        "\n",
        "# Run the comprehensive setup script\n",
        "!python colab_setup.py\n",
        "\n",
        "print(\"\\n🎉 Setup completed!\")\n",
        "print(\"👉 Next: Run Cell 3 to launch the application\")\n"
      ]
    },
    {
      "cell_type": "code",
      "execution_count": null,
      "metadata": {},
      "outputs": [],
      "source": [
        "# 🚀 Step 3: Launch Application\n",
        "\n",
        "print(\"🎬 Launching Magic Hour Remix Anything...\")\n",
        "print(\"🔗 Click the Gradio link when it appears below!\")\n",
        "print(\"⏳ The app may take 30-60 seconds to fully load...\")\n",
        "print(\"=\"*60)\n",
        "\n",
        "# Run the launch script with fallback methods\n",
        "!python colab_launch.py\n"
      ]
    },
    {
      "cell_type": "raw",
      "metadata": {
        "vscode": {
          "languageId": "raw"
        }
      },
      "source": [
        "## 🎯 How to Use\n",
        "\n",
        "Once the application launches, you'll see a Gradio interface with multiple tabs:\n",
        "\n",
        "### 📹 **Video Input**\n",
        "1. Upload your video file (MP4, AVI, MOV)\n",
        "2. Wait for the first frame to appear\n",
        "\n",
        "### 🎯 **Object Selection Methods**\n",
        "\n",
        "**Everything Tab**: Automatically detect all objects\n",
        "- Click \"Segment everything for first frame\"\n",
        "- Click on any detected object to select it\n",
        "\n",
        "**Click Tab**: Point-and-click selection\n",
        "- Click positive points (green) on your target\n",
        "- Click negative points (red) to refine\n",
        "\n",
        "**Text Tab**: Describe what you want to track\n",
        "- Enter descriptions like \"person\", \"car\", \"dog\"\n",
        "- Click \"Detect\" to find matching objects\n",
        "\n",
        "**Stroke Tab**: Draw around objects\n",
        "- Use the drawing tool to outline your target\n",
        "- Click \"Segment\" to create the mask\n",
        "\n",
        "**Audio Tab**: Audio-based detection\n",
        "- Upload video with audio\n",
        "- Detect and track sound-making objects\n",
        "\n",
        "### ▶️ **Start Tracking**\n",
        "1. Select your objects using any method above\n",
        "2. Click \"Start Tracking\"\n",
        "3. Wait for processing to complete\n",
        "4. Download your results!\n",
        "\n",
        "---\n",
        "\n",
        "## 💡 **Tips for Best Results**\n",
        "- Use GPU runtime for faster processing\n",
        "- Shorter videos (< 30 seconds) work best\n",
        "- Try different selection methods for better accuracy\n",
        "- Monitor memory usage if processing large files\n",
        "\n",
        "---\n"
      ]
    },
    {
      "cell_type": "code",
      "execution_count": null,
      "metadata": {},
      "outputs": [],
      "source": [
        "# 🔍 Optional: Memory Monitoring\n",
        "\n",
        "# Run this cell anytime to check memory usage\n",
        "from utils.colab_utils import print_memory_usage, monitor_memory, cleanup_memory\n",
        "\n",
        "print(\"💾 Current Memory Status:\")\n",
        "print_memory_usage()\n",
        "\n",
        "# Monitor and cleanup if needed\n",
        "high_memory = monitor_memory(threshold=80, cleanup_if_high=True)\n",
        "\n",
        "if high_memory:\n",
        "    print(\"\\n⚠️  Consider restarting runtime if memory issues persist\")\n",
        "else:\n",
        "    print(\"\\n✅ Memory usage is normal\")\n"
      ]
    },
    {
      "cell_type": "code",
      "execution_count": null,
      "metadata": {},
      "outputs": [],
      "source": [
        "# 🛠️ Optional: Troubleshooting\n",
        "\n",
        "# Run this cell if you encounter issues\n",
        "from utils.colab_utils import health_check\n",
        "\n",
        "print(\"🏥 Running comprehensive health check...\")\n",
        "health_check()\n",
        "\n",
        "print(\"\\n🔧 Common Solutions:\")\n",
        "print(\"   1. Restart runtime if memory usage > 90%\")\n",
        "print(\"   2. Re-run setup if imports failed\")\n",
        "print(\"   3. Try quick launch: !python colab_launch.py --quick\")\n",
        "print(\"   4. Check logs above for specific error messages\")\n"
      ]
    },
    {
      "cell_type": "raw",
      "metadata": {
        "vscode": {
          "languageId": "raw"
        }
      },
      "source": [
        "## 🛠️ **Advanced Options**\n",
        "\n",
        "### Quick Launch (if setup already completed)\n",
        "```python\n",
        "!python colab_launch.py --quick\n",
        "```\n",
        "\n",
        "### Memory Check Only\n",
        "```python\n",
        "!python colab_launch.py --memory-check\n",
        "```\n",
        "\n",
        "### Manual Launch\n",
        "```python\n",
        "!python app.py\n",
        "```\n",
        "\n",
        "### Memory-Optimized Launch\n",
        "```python\n",
        "!python app_memory_optimized.py\n",
        "```\n",
        "\n",
        "---\n",
        "\n",
        "## 📚 **Resources**\n",
        "- **Repository**: https://github.com/sarptandoven/magic-remix-anything\n",
        "- **Issues**: Report bugs and request features\n",
        "- **Documentation**: Complete guides and tutorials\n",
        "\n",
        "---\n",
        "\n",
        "**🎉 Enjoy creating with Magic Hour Remix Anything! 🎉**\n"
      ]
    }
  ],
  "metadata": {
    "language_info": {
      "name": "python"
    }
  },
  "nbformat": 4,
  "nbformat_minor": 2
}
