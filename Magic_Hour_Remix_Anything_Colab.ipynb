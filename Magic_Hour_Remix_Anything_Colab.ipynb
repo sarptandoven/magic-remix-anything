{
  "cells": [
    {
      "cell_type": "raw",
      "metadata": {
        "vscode": {
          "languageId": "raw"
        }
      },
      "source": [
        "# 🎬 Magic Hour Remix Anything\n",
        "\n",
        "**An AI-powered video object segmentation and tracking tool**\n",
        "\n",
        "This notebook allows you to:\n",
        "- Segment and track any objects in videos\n",
        "- Use text prompts for object detection\n",
        "- Interactive object selection\n",
        "- Audio-based object grounding\n",
        "\n",
        "---\n",
        "\n",
        "## 📋 Instructions:\n",
        "1. **Run all cells in order** (Runtime → Run all)\n",
        "2. **Wait for setup to complete** (~5-10 minutes)\n",
        "3. **Click the Gradio link** when it appears\n",
        "4. **Upload your video** and start tracking!\n",
        "\n",
        "---\n"
      ]
    },
    {
      "cell_type": "raw",
      "metadata": {
        "vscode": {
          "languageId": "raw"
        }
      },
      "source": [
        "## 🔧 Setup and Installation\n"
      ]
    },
    {
      "cell_type": "code",
      "execution_count": null,
      "metadata": {},
      "outputs": [],
      "source": [
        "# Check GPU availability\n",
        "!nvidia-smi\n",
        "import torch\n",
        "print(f\"CUDA available: {torch.cuda.is_available()}\")\n",
        "print(f\"GPU device: {torch.cuda.get_device_name(0) if torch.cuda.is_available() else 'No GPU'}\")\n"
      ]
    },
    {
      "cell_type": "code",
      "execution_count": null,
      "metadata": {},
      "outputs": [],
      "source": [
        "# Clone the Magic Hour Remix repository\n",
        "import os\n",
        "if os.path.exists('magic-remix-anything'):\n",
        "    !rm -rf magic-remix-anything\n",
        "\n",
        "!git clone https://github.com/YOUR_USERNAME/magic-remix-anything.git\n",
        "%cd magic-remix-anything\n",
        "\n",
        "print(\"Repository cloned successfully!\")\n"
      ]
    },
    {
      "cell_type": "code",
      "execution_count": null,
      "metadata": {},
      "outputs": [],
      "source": [
        "# Install system dependencies\n",
        "!apt-get update -qq\n",
        "!apt-get install -y ffmpeg\n",
        "\n",
        "# Install Python dependencies\n",
        "!pip install -q -r requirements.txt\n",
        "\n",
        "print(\"Dependencies installed successfully!\")\n"
      ]
    },
    {
      "cell_type": "code",
      "execution_count": null,
      "metadata": {},
      "outputs": [],
      "source": [
        "# Handle Python 3.10+ audioop compatibility\n",
        "import sys\n",
        "import importlib.util\n",
        "\n",
        "# Check if audioop module exists\n",
        "try:\n",
        "    import audioop\n",
        "    print(\"audioop module is available\")\n",
        "except ImportError:\n",
        "    print(\"audioop module not found, using compatibility module\")\n",
        "    # The audioop.py file in the repo will handle this\n",
        "    sys.path.insert(0, '.')\n",
        "\n",
        "print(\"Audio compatibility setup complete!\")\n"
      ]
    },
    {
      "cell_type": "code",
      "execution_count": null,
      "metadata": {},
      "outputs": [],
      "source": [
        "# Install SAM (Segment Anything Model)\n",
        "%cd sam\n",
        "!pip install -e .\n",
        "%cd ..\n",
        "\n",
        "print(\"SAM installed successfully!\")\n"
      ]
    },
    {
      "cell_type": "code",
      "execution_count": null,
      "metadata": {},
      "outputs": [],
      "source": [
        "# Download pre-trained model checkpoints\n",
        "print(\"Downloading model checkpoints... (this may take a few minutes)\")\n",
        "\n",
        "# Make the download script executable and run it\n",
        "!chmod +x script/download_ckpt.sh\n",
        "!bash script/download_ckpt.sh\n",
        "\n",
        "print(\"Model checkpoints downloaded successfully!\")\n",
        "\n",
        "# Verify downloads\n",
        "!ls -la ckpt/\n",
        "!ls -la ast_master/pretrained_models/\n"
      ]
    },
    {
      "cell_type": "raw",
      "metadata": {
        "vscode": {
          "languageId": "raw"
        }
      },
      "source": [
        "## 🧪 Test Imports\n"
      ]
    },
    {
      "cell_type": "code",
      "execution_count": null,
      "metadata": {},
      "outputs": [],
      "source": [
        "# Test all critical imports\n",
        "print(\"Testing imports...\")\n",
        "\n",
        "try:\n",
        "    import gradio as gr\n",
        "    print(f\"✅ Gradio {gr.__version__}\")\n",
        "except Exception as e:\n",
        "    print(f\"❌ Gradio: {e}\")\n",
        "\n",
        "try:\n",
        "    import torch\n",
        "    print(f\"✅ PyTorch {torch.__version__}\")\n",
        "except Exception as e:\n",
        "    print(f\"❌ PyTorch: {e}\")\n",
        "\n",
        "try:\n",
        "    from moviepy import VideoFileClip\n",
        "    print(\"✅ MoviePy\")\n",
        "except Exception as e:\n",
        "    print(f\"❌ MoviePy: {e}\")\n",
        "\n",
        "try:\n",
        "    import groundingdino\n",
        "    print(\"✅ GroundingDINO\")\n",
        "except Exception as e:\n",
        "    print(f\"❌ GroundingDINO: {e}\")\n",
        "\n",
        "try:\n",
        "    import segment_anything\n",
        "    print(\"✅ Segment Anything\")\n",
        "except Exception as e:\n",
        "    print(f\"❌ Segment Anything: {e}\")\n",
        "\n",
        "print(\"\\nImport tests completed!\")\n"
      ]
    },
    {
      "cell_type": "raw",
      "metadata": {
        "vscode": {
          "languageId": "raw"
        }
      },
      "source": [
        "## 🚀 Launch Magic Hour Remix\n",
        "\n",
        "**Click the Gradio link below when it appears to start using the application!**\n"
      ]
    },
    {
      "cell_type": "code",
      "execution_count": null,
      "metadata": {},
      "outputs": [],
      "source": [
        "# Add current directory to Python path for audioop compatibility\n",
        "import sys\n",
        "sys.path.insert(0, '.')\n",
        "\n",
        "# Launch the Magic Hour Remix application\n",
        "import os\n",
        "os.environ['PYTHONPATH'] = '.'\n",
        "\n",
        "print(\"🎬 Starting Magic Hour Remix Anything...\")\n",
        "print(\"🔗 Click the Gradio link when it appears below!\")\n",
        "print(\"⏳ The app may take 30-60 seconds to fully load...\")\n",
        "print(\"=\"*60)\n",
        "\n",
        "# Run the application\n",
        "exec(open('app.py').read())\n"
      ]
    },
    {
      "cell_type": "raw",
      "metadata": {
        "vscode": {
          "languageId": "raw"
        }
      },
      "source": [
        "## 📖 How to Use\n",
        "\n",
        "### 🎥 **Video Input**\n",
        "1. Upload your video file\n",
        "2. Wait for the first frame to appear\n",
        "\n",
        "### 🎯 **Object Selection Methods**\n",
        "\n",
        "**Everything Tab**: Automatically segment all objects in the first frame\n",
        "- Click \"Segment everything for first frame\"\n",
        "- Click on any segmented region to select objects\n",
        "\n",
        "**Click Tab**: Interactive point-based selection\n",
        "- Click positive points (green) on your target object\n",
        "- Click negative points (red) to refine selection\n",
        "\n",
        "**Text Tab**: Text-based object detection\n",
        "- Enter object descriptions (e.g., \"person\", \"car\", \"dog\")\n",
        "- Click \"Detect\" to find objects matching your description\n",
        "\n",
        "**Stroke Tab**: Draw around objects\n",
        "- Use the drawing board to outline your target object\n",
        "- Click \"Segment\" to create a mask\n",
        "\n",
        "### 🎵 **Audio Tab**: Audio-based object grounding\n",
        "- Upload a video with audio\n",
        "- Click \"detect the label of the sound-making object\"\n",
        "- Click \"ground the sound-making object\" to find the source\n",
        "\n",
        "### ▶️ **Start Tracking**\n",
        "- Once you've selected your objects, click \"Start Tracking\"\n",
        "- Wait for processing to complete\n",
        "- Download your results!\n",
        "\n",
        "---\n",
        "\n",
        "### 💡 **Tips**\n",
        "- Use GPU runtime for faster processing\n",
        "- Shorter videos process faster\n",
        "- Multiple objects can be tracked simultaneously\n",
        "- Experiment with different selection methods for best results\n",
        "\n",
        "---\n",
        "\n",
        "### 🛠️ **Troubleshooting**\n",
        "- If the app doesn't load, restart the runtime and run all cells again\n",
        "- For large videos, consider reducing resolution or length\n",
        "- If you get memory errors, restart runtime and try again\n",
        "\n",
        "---\n",
        "\n",
        "**🎉 Enjoy creating with Magic Hour Remix Anything! 🎉**\n"
      ]
    }
  ],
  "metadata": {
    "language_info": {
      "name": "python"
    }
  },
  "nbformat": 4,
  "nbformat_minor": 2
}
